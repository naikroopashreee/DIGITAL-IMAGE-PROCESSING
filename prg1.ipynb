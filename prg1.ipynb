{
 "cells": [
  {
   "cell_type": "code",
   "execution_count": 12,
   "id": "a952e6ec",
   "metadata": {},
   "outputs": [],
   "source": [
    "\n",
    "from PIL import Image\n",
    "from PIL import ImageFilter\n",
    "img=Image.open(\"P1.jpg\");\n",
    "img.show()\n",
    "for i in range(0,img.size[0]-1):\n",
    "    for j in range(0,img.size[1]-1):\n",
    "        pixelcolorvals=img.getpixel((i,j))\n",
    "        redpixel=255-pixelcolorvals[0]\n",
    "        greenpixel=255-pixelcolorvals[1]\n",
    "        bluepixel=255-pixelcolorvals[2]\n",
    "        img.putpixel((i,j),(redpixel,greenpixel,bluepixel))\n",
    "img.show()"
   ]
  },
  {
   "cell_type": "code",
   "execution_count": null,
   "id": "2c71c536",
   "metadata": {},
   "outputs": [],
   "source": []
  },
  {
   "cell_type": "code",
   "execution_count": null,
   "id": "decb6d32",
   "metadata": {},
   "outputs": [],
   "source": []
  },
  {
   "cell_type": "code",
   "execution_count": null,
   "id": "36af749c",
   "metadata": {},
   "outputs": [],
   "source": []
  }
 ],
 "metadata": {
  "kernelspec": {
   "display_name": "Python 3",
   "language": "python",
   "name": "python3"
  },
  "language_info": {
   "codemirror_mode": {
    "name": "ipython",
    "version": 3
   },
   "file_extension": ".py",
   "mimetype": "text/x-python",
   "name": "python",
   "nbconvert_exporter": "python",
   "pygments_lexer": "ipython3",
   "version": "3.8.8"
  }
 },
 "nbformat": 4,
 "nbformat_minor": 5
}
